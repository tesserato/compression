{
  "cells": [
    {
      "cell_type": "code",
      "source": [
        "import sympy as sp\n",
        "\n",
        "nx, ny, p, m, q, qxy, kx, ky, n, s, r, k, a, b, c = sp.symbols(\"nx ny p m q qxy kx ky n s r k a b c\", integer=True, positive=True)\n",
        "\n",
        "# 2 * kx + 2 <= nx <= p\n",
        "# 2 * ky + 2 <= ny <= m\n",
        "# c = (nx - kx - 1) * (ny - ky - 1) # size of the coefficients\n",
        "# c + p + k<= n ## k -> aditional info: {n, p, etc}\n",
        "\n",
        "# (2 * kx + 2) + qxy * q * p - (2 * kx + 2) = nx\n",
        "# q * m = ny\n",
        "\n",
        "# p -> int   (4 bytes)\n",
        "# n -> short (2 bytes)\n",
        "# c -> float (4 bytes)\n",
        "# k -> int   (4 bytes)"
      ],
      "outputs": [],
      "execution_count": 16,
      "metadata": {
        "collapsed": true,
        "jupyter": {
          "source_hidden": false,
          "outputs_hidden": false
        },
        "nteract": {
          "transient": {
            "deleting": false
          }
        }
      }
    },
    {
      "cell_type": "code",
      "execution_count": 17,
      "metadata": {},
      "outputs": [],
      "source": [
        "c_bytes = 4\n",
        "n_bytes = 2\n",
        "p_bytes = 4\n",
        "k_bytes = 4"
      ]
    },
    {
      "cell_type": "code",
      "execution_count": 18,
      "metadata": {},
      "outputs": [
        {
          "output_type": "execute_result",
          "data": {
            "text/plain": [
              "(-kx + nx - 1)*(-ky + ny - 1)"
            ],
            "text/latex": "$\\displaystyle \\left(- kx + nx - 1\\right) \\left(- ky + ny - 1\\right)$"
          },
          "metadata": {},
          "execution_count": 18
        }
      ],
      "source": [
        "c = (nx - kx - 1) * (ny - ky - 1)\n",
        "c"
      ]
    },
    {
      "cell_type": "code",
      "execution_count": 19,
      "metadata": {},
      "outputs": [
        {
          "output_type": "execute_result",
          "data": {
            "text/plain": [
              "Eq(4*(-kx + nx - 1)*(-ky + ny - 1), -4*k + 2*n - 4*p)"
            ],
            "text/latex": "$\\displaystyle 4 \\left(- kx + nx - 1\\right) \\left(- ky + ny - 1\\right) = - 4 k + 2 n - 4 p$"
          },
          "metadata": {},
          "execution_count": 19
        }
      ],
      "source": [
        "eq1 = sp.Eq(c * c_bytes, n * n_bytes - p * p_bytes - k * k_bytes)\n",
        "eq1"
      ]
    },
    {
      "cell_type": "code",
      "execution_count": 35,
      "metadata": {},
      "outputs": [
        {
          "output_type": "stream",
          "name": "stdout",
          "text": [
            "(k + kx*ky + kx - ky*nx + ky - n/2 - nx + p + 1)/(kx - nx + 1)\n"
          ]
        }
      ],
      "source": [
        "ny_ = sp.solve(eq1, ny)[0].factor(deep=True).simplify(deep=True)\n",
        "print(ny_)"
      ]
    },
    {
      "cell_type": "code",
      "execution_count": 21,
      "metadata": {},
      "outputs": [
        {
          "output_type": "execute_result",
          "data": {
            "text/plain": [
              "2*kx + 2"
            ],
            "text/latex": "$\\displaystyle 2 kx + 2$"
          },
          "metadata": {},
          "execution_count": 21
        }
      ],
      "source": [
        "nx_min = 2 * kx + 2\n",
        "nx_min"
      ]
    },
    {
      "cell_type": "code",
      "execution_count": 34,
      "metadata": {},
      "outputs": [
        {
          "output_type": "stream",
          "name": "stdout",
          "text": [
            "(-k + kx*ky + kx + ky + n/2 - p + 1)/(ky + 1)\n"
          ]
        }
      ],
      "source": [
        "nx_max = sp.solve(eq1, nx)[0].subs(ny, 2 * ky + 2).factor(deep=True).simplify(deep=True)\n",
        "print(nx_max)"
      ]
    },
    {
      "cell_type": "code",
      "execution_count": 23,
      "metadata": {},
      "outputs": [
        {
          "output_type": "execute_result",
          "data": {
            "text/plain": [
              "2*kx + qxy*(-k - kx*ky - kx - ky + n/2 - p - 1)/(ky + 1) + 2"
            ],
            "text/latex": "$\\displaystyle 2 kx + \\frac{qxy \\left(- k - kx ky - kx - ky + \\frac{n}{2} - p - 1\\right)}{ky + 1} + 2$"
          },
          "metadata": {},
          "execution_count": 23
        }
      ],
      "source": [
        "nx_ = nx_min + qxy * (nx_max - nx_min).expand().factor().simplify()\n",
        "nx_"
      ]
    },
    {
      "cell_type": "code",
      "execution_count": 24,
      "metadata": {},
      "outputs": [
        {
          "output_type": "execute_result",
          "data": {
            "text/plain": [
              "Eq(4*(m*r - 4)*(p*r - 4), 2*n - 4*p - 20)"
            ],
            "text/latex": "$\\displaystyle 4 \\left(m r - 4\\right) \\left(p r - 4\\right) = 2 n - 4 p - 20$"
          },
          "metadata": {},
          "execution_count": 24
        }
      ],
      "source": [
        "eq3=sp.Eq((r * p - kx - 1) * (r * m - ky - 1) * c_bytes, n * n_bytes - p * p_bytes - k * k_bytes).subs(kx,3).subs(ky,3).subs(k,5)\n",
        "eq3"
      ]
    },
    {
      "cell_type": "code",
      "execution_count": 25,
      "metadata": {},
      "outputs": [],
      "source": [
        "sol2 = sp.solve(eq3, r)#.expand(trig=True).factor(deep=True).simplify(deep=True)"
      ]
    },
    {
      "cell_type": "code",
      "execution_count": 26,
      "metadata": {},
      "outputs": [
        {
          "output_type": "stream",
          "name": "stdout",
          "text": [
            "(2*m + 2*p + sqrt(16*m**2 + 2*m*n*p - 4*m*p**2 - 52*m*p + 16*p**2)/2)/(m*p)\n"
          ]
        }
      ],
      "source": [
        "r_ = sol2[1].expand(trig=True).factor(deep=True).simplify(deep=True)\n",
        "print(r_)"
      ]
    },
    {
      "cell_type": "code",
      "execution_count": 27,
      "metadata": {},
      "outputs": [
        {
          "output_type": "execute_result",
          "data": {
            "text/plain": [
              "13554274504.0000"
            ],
            "text/latex": "$\\displaystyle 13554274504.0$"
          },
          "metadata": {},
          "execution_count": 27
        }
      ],
      "source": [
        "(4*m**2 + m*n*p - m*p**2 - 13*m*p + 4*p**2).subs(p, 1820).subs(m, 66).subs(n, 114562).evalf()\n",
        "# p=1820 m=66 n=114562\n",
        "# 669372616\n",
        "# 2147483647\n",
        "# 13554274504"
      ]
    },
    {
      "cell_type": "code",
      "execution_count": 28,
      "metadata": {},
      "outputs": [
        {
          "output_type": "execute_result",
          "data": {
            "text/plain": [
              "13554274504.0000"
            ],
            "text/latex": "$\\displaystyle 13554274504.0$"
          },
          "metadata": {},
          "execution_count": 28
        }
      ],
      "source": [
        "(4*m*m + m*n*p - m*p*p - 13*m*p + 4*p*p).subs(p, 1820).subs(m, 66).subs(n, 114562).evalf()"
      ]
    },
    {
      "cell_type": "code",
      "execution_count": 29,
      "metadata": {},
      "outputs": [
        {
          "output_type": "execute_result",
          "data": {
            "text/plain": [
              "0.711493500849924"
            ],
            "text/latex": "$\\displaystyle 0.711493500849924$"
          },
          "metadata": {},
          "execution_count": 29
        }
      ],
      "source": [
        "r_.subs(p, 1820).subs(m, 66).subs(n, 114562).evalf()"
      ]
    },
    {
      "cell_type": "code",
      "execution_count": 30,
      "metadata": {},
      "outputs": [
        {
          "output_type": "execute_result",
          "data": {
            "text/plain": [
              "True"
            ],
            "text/latex": "$\\displaystyle \\text{True}$"
          },
          "metadata": {},
          "execution_count": 30
        }
      ],
      "source": [
        "eq3.subs(kx,3).subs(ky,3).subs(k,5).subs(r, r_).expand(trig=True).simplify(deep=True)"
      ]
    },
    {
      "cell_type": "code",
      "execution_count": 31,
      "metadata": {},
      "outputs": [
        {
          "output_type": "execute_result",
          "data": {
            "text/plain": [
              "(2*m + 2*p - sqrt(16*m**2 + 2*m*n*p - 4*m*p**2 - 52*m*p + 16*p**2)/2)/(m*p)"
            ],
            "text/latex": "$\\displaystyle \\frac{2 m + 2 p - \\frac{\\sqrt{16 m^{2} + 2 m n p - 4 m p^{2} - 52 m p + 16 p^{2}}}{2}}{m p}$"
          },
          "metadata": {},
          "execution_count": 31
        }
      ],
      "source": [
        "sol2[0].expand(trig=True).factor(deep=True).simplify(deep=True)"
      ]
    },
    {
      "cell_type": "code",
      "execution_count": 32,
      "metadata": {},
      "outputs": [
        {
          "output_type": "execute_result",
          "data": {
            "text/plain": [
              "Eq(m*p*r**2, -k + n - p)"
            ],
            "text/latex": "$\\displaystyle m p r^{2} = - k + n - p$"
          },
          "metadata": {},
          "execution_count": 32
        }
      ],
      "source": [
        "eq4=sp.Eq(r * p  * r * m , n - p - k)\n",
        "eq4"
      ]
    },
    {
      "cell_type": "code",
      "execution_count": 33,
      "metadata": {},
      "outputs": [
        {
          "output_type": "execute_result",
          "data": {
            "text/plain": [
              "sqrt(-k + n - p)/(sqrt(m)*sqrt(p))"
            ],
            "text/latex": "$\\displaystyle \\frac{\\sqrt{- k + n - p}}{\\sqrt{m} \\sqrt{p}}$"
          },
          "metadata": {},
          "execution_count": 33
        }
      ],
      "source": [
        "sp.solve(eq4, r)[0]"
      ]
    }
  ],
  "metadata": {
    "kernel_info": {
      "name": "python38164bit4dd4b799af3b48fcbbcd6aea0c620513"
    },
    "language_info": {
      "name": "python38164bit4dd4b799af3b48fcbbcd6aea0c620513",
      "version": "3.8.1"
    },
    "kernelspec": {
      "name": "python3",
      "display_name": "Python 3.8.1 64-bit"
    },
    "nteract": {
      "version": "0.27.0"
    },
    "metadata": {
      "interpreter": {
        "hash": "99ad7af26d078c2c46c8c13c60c3880ce9b42bdbfbf84168cd0a8ef0da149f00"
      }
    },
    "interpreter": {
      "hash": "99ad7af26d078c2c46c8c13c60c3880ce9b42bdbfbf84168cd0a8ef0da149f00"
    }
  },
  "nbformat": 4,
  "nbformat_minor": 0
}