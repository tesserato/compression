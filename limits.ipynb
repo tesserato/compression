{
  "cells": [
    {
      "cell_type": "code",
      "source": [
        "import sympy as sp\n",
        "\n",
        "nx, ny, p, m, q, kx, ky, n = sp.symbols(\"nx ny p m q kx ky n\",  integer=True, positive=True )\n",
        "\n",
        "# 2 * kx + 2 <= nx\n",
        "# 2 * ky + 2 <= ny\n",
        "# (nx - kx - 1) * (ny - ky - 1) <= n\n",
        "\n",
        "# q * p = nx\n",
        "# q * m = ny"
      ],
      "outputs": [],
      "execution_count": 18,
      "metadata": {
        "collapsed": true,
        "jupyter": {
          "source_hidden": false,
          "outputs_hidden": false
        },
        "nteract": {
          "transient": {
            "deleting": false
          }
        }
      }
    },
    {
      "cell_type": "code",
      "execution_count": 19,
      "metadata": {},
      "outputs": [
        {
          "output_type": "execute_result",
          "data": {
            "text/plain": [
              "Eq((-kx + p*q - 1)*(-ky + m*q - 1), n)"
            ],
            "text/latex": "$\\displaystyle \\left(- kx + p q - 1\\right) \\left(- ky + m q - 1\\right) = n$"
          },
          "metadata": {},
          "execution_count": 19
        }
      ],
      "source": [
        "eq=sp.Eq((q * p - kx - 1) * (q * m - ky - 1), n )\n",
        "eq"
      ]
    },
    {
      "cell_type": "code",
      "execution_count": 20,
      "metadata": {},
      "outputs": [
        {
          "output_type": "execute_result",
          "data": {
            "text/plain": [
              "(kx*m + ky*p + m + p - sqrt(kx**2*m**2 - 2*kx*ky*m*p + 2*kx*m**2 - 2*kx*m*p + ky**2*p**2 - 2*ky*m*p + 2*ky*p**2 + m**2 + 4*m*n*p - 2*m*p + p**2))/(2*m*p)"
            ],
            "text/latex": "$\\displaystyle \\frac{kx m + ky p + m + p - \\sqrt{kx^{2} m^{2} - 2 kx ky m p + 2 kx m^{2} - 2 kx m p + ky^{2} p^{2} - 2 ky m p + 2 ky p^{2} + m^{2} + 4 m n p - 2 m p + p^{2}}}{2 m p}$"
          },
          "metadata": {},
          "execution_count": 20
        }
      ],
      "source": [
        "sp.solve(eq, q)[0]"
      ]
    },
    {
      "cell_type": "code",
      "execution_count": 21,
      "metadata": {},
      "outputs": [
        {
          "output_type": "stream",
          "name": "stdout",
          "text": [
            "(kx*m + ky*p + m + p + sqrt(kx**2*m**2 - 2*kx*ky*m*p + 2*kx*m**2 - 2*kx*m*p + ky**2*p**2 - 2*ky*m*p + 2*ky*p**2 + m**2 + 4*m*n*p - 2*m*p + p**2))/(2*m*p)\n"
          ]
        }
      ],
      "source": [
        "print(sp.solve(eq, q)[1].factor(deep=True))"
      ]
    },
    {
      "cell_type": "code",
      "execution_count": null,
      "metadata": {},
      "outputs": [],
      "source": []
    }
  ],
  "metadata": {
    "kernel_info": {
      "name": "python38164bit4dd4b799af3b48fcbbcd6aea0c620513"
    },
    "language_info": {
      "name": "python38164bit4dd4b799af3b48fcbbcd6aea0c620513",
      "version": "3.8.1"
    },
    "kernelspec": {
      "name": "python38164bit4dd4b799af3b48fcbbcd6aea0c620513",
      "display_name": "Python 3.8.1 64-bit"
    },
    "nteract": {
      "version": "0.27.0"
    },
    "metadata": {
      "interpreter": {
        "hash": "99ad7af26d078c2c46c8c13c60c3880ce9b42bdbfbf84168cd0a8ef0da149f00"
      }
    }
  },
  "nbformat": 4,
  "nbformat_minor": 0
}