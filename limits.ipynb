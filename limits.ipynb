{
  "cells": [
    {
      "cell_type": "code",
      "source": [
        "import sympy as sp\n",
        "\n",
        "nx, ny, p, m, q, qxy, kx, ky, n, s, r, k, a, b, c = sp.symbols(\"nx ny p m q qxy kx ky n s r k a b c\", integer=True, positive=True)\n",
        "\n",
        "# 2 * kx + 2 <= nx <= p\n",
        "# 2 * ky + 2 <= ny <= m\n",
        "# c_size = (nx - kx - 1) * (ny - ky - 1)\n",
        "# c_size + p + k<= n ## k -> aditional info: {n, p, etc}\n",
        "\n",
        "# (2 * kx + 2) + qxy * q * p - (2 * kx + 2) = nx\n",
        "# q * m = ny"
      ],
      "outputs": [],
      "execution_count": 331,
      "metadata": {
        "collapsed": true,
        "jupyter": {
          "source_hidden": false,
          "outputs_hidden": false
        },
        "nteract": {
          "transient": {
            "deleting": false
          }
        }
      }
    },
    {
      "cell_type": "code",
      "execution_count": 332,
      "metadata": {},
      "outputs": [
        {
          "output_type": "execute_result",
          "data": {
            "text/plain": [
              "Eq((-kx + nx - 1)*(-ky + ny - 1), -k + n - p)"
            ],
            "text/latex": "$\\displaystyle \\left(- kx + nx - 1\\right) \\left(- ky + ny - 1\\right) = - k + n - p$"
          },
          "metadata": {},
          "execution_count": 332
        }
      ],
      "source": [
        "eq1 = sp.Eq((nx - kx - 1) * (ny - ky - 1), n - p - k)\n",
        "eq1"
      ]
    },
    {
      "cell_type": "code",
      "execution_count": 333,
      "metadata": {},
      "outputs": [
        {
          "output_type": "execute_result",
          "data": {
            "text/plain": [
              "(k + kx*ky + kx - ky*nx + ky - n - nx + p + 1)/(kx - nx + 1)"
            ],
            "text/latex": "$\\displaystyle \\frac{k + kx ky + kx - ky nx + ky - n - nx + p + 1}{kx - nx + 1}$"
          },
          "metadata": {},
          "execution_count": 333
        }
      ],
      "source": [
        "ny_ = sp.solve(eq1, ny)[0].factor(deep=True).simplify(deep=True)\n",
        "ny_"
      ]
    },
    {
      "cell_type": "code",
      "execution_count": 334,
      "metadata": {},
      "outputs": [
        {
          "output_type": "execute_result",
          "data": {
            "text/plain": [
              "2*kx + 2"
            ],
            "text/latex": "$\\displaystyle 2 kx + 2$"
          },
          "metadata": {},
          "execution_count": 334
        }
      ],
      "source": [
        "nx_min = 2 * kx + 2\n",
        "nx_min"
      ]
    },
    {
      "cell_type": "code",
      "execution_count": 335,
      "metadata": {},
      "outputs": [
        {
          "output_type": "execute_result",
          "data": {
            "text/plain": [
              "(-k + kx*ky + kx + ky + n - p + 1)/(ky + 1)"
            ],
            "text/latex": "$\\displaystyle \\frac{- k + kx ky + kx + ky + n - p + 1}{ky + 1}$"
          },
          "metadata": {},
          "execution_count": 335
        }
      ],
      "source": [
        "nx_max = sp.solve(eq1, nx)[0].subs(ny, 2 * ky + 2).factor(deep=True).simplify(deep=True)\n",
        "nx_max"
      ]
    },
    {
      "cell_type": "code",
      "execution_count": 336,
      "metadata": {},
      "outputs": [
        {
          "output_type": "execute_result",
          "data": {
            "text/plain": [
              "2*kx + qxy*(-k - kx*ky - kx - ky + n - p - 1)/(ky + 1) + 2"
            ],
            "text/latex": "$\\displaystyle 2 kx + \\frac{qxy \\left(- k - kx ky - kx - ky + n - p - 1\\right)}{ky + 1} + 2$"
          },
          "metadata": {},
          "execution_count": 336
        }
      ],
      "source": [
        "nx_ = nx_min + qxy * (nx_max - nx_min).expand().factor().simplify()\n",
        "nx_"
      ]
    },
    {
      "cell_type": "code",
      "execution_count": 337,
      "metadata": {},
      "outputs": [
        {
          "output_type": "execute_result",
          "data": {
            "text/plain": [
              "Eq((m*r - 4)*(p*r - 4), n - p - 5)"
            ],
            "text/latex": "$\\displaystyle \\left(m r - 4\\right) \\left(p r - 4\\right) = n - p - 5$"
          },
          "metadata": {},
          "execution_count": 337
        }
      ],
      "source": [
        "eq3=sp.Eq((r * p - kx - 1) * (r * m - ky - 1), n - p - k).subs(kx,3).subs(ky,3).subs(k,5)\n",
        "eq3"
      ]
    },
    {
      "cell_type": "code",
      "execution_count": 338,
      "metadata": {},
      "outputs": [],
      "source": [
        "sol2 = sp.solve(eq3, r)#.expand(trig=True).factor(deep=True).simplify(deep=True)"
      ]
    },
    {
      "cell_type": "code",
      "execution_count": 339,
      "metadata": {},
      "outputs": [
        {
          "output_type": "execute_result",
          "data": {
            "text/plain": [
              "(2*m + 2*p + sqrt(4*m**2 + m*n*p - m*p**2 - 13*m*p + 4*p**2))/(m*p)"
            ],
            "text/latex": "$\\displaystyle \\frac{2 m + 2 p + \\sqrt{4 m^{2} + m n p - m p^{2} - 13 m p + 4 p^{2}}}{m p}$"
          },
          "metadata": {},
          "execution_count": 339
        }
      ],
      "source": [
        "r_ = sol2[1].expand(trig=True).factor(deep=True).simplify(deep=True)\n",
        "r_"
      ]
    },
    {
      "cell_type": "code",
      "execution_count": 340,
      "metadata": {},
      "outputs": [
        {
          "output_type": "execute_result",
          "data": {
            "text/plain": [
              "True"
            ],
            "text/latex": "$\\displaystyle \\text{True}$"
          },
          "metadata": {},
          "execution_count": 340
        }
      ],
      "source": [
        "eq3.subs(kx,3).subs(ky,3).subs(k,5).subs(r, r_).expand(trig=True).simplify(deep=True)"
      ]
    },
    {
      "cell_type": "code",
      "execution_count": 341,
      "metadata": {},
      "outputs": [
        {
          "output_type": "execute_result",
          "data": {
            "text/plain": [
              "(2*m + 2*p + sqrt(4*m**2 + m*n*p - m*p**2 - 13*m*p + 4*p**2))/(m*p)"
            ],
            "text/latex": "$\\displaystyle \\frac{2 m + 2 p + \\sqrt{4 m^{2} + m n p - m p^{2} - 13 m p + 4 p^{2}}}{m p}$"
          },
          "metadata": {},
          "execution_count": 341
        }
      ],
      "source": [
        "sol2[1].expand(trig=True).factor(deep=True).simplify(deep=True)"
      ]
    },
    {
      "cell_type": "code",
      "execution_count": 343,
      "metadata": {},
      "outputs": [],
      "source": [
        "s_=sp.solve(f, s)[0]"
      ]
    },
    {
      "cell_type": "code",
      "execution_count": 344,
      "metadata": {},
      "outputs": [
        {
          "output_type": "stream",
          "name": "stdout",
          "text": [
            "(2*m + 2*p + sqrt(4*m**2 + m*n*p - m*p**2 - 13*m*p + 4*p**2))/(m*p)\n"
          ]
        }
      ],
      "source": [
        "print(sol2[1].subs(s, s_).expand(trig=True).factor(deep=True).simplify(deep=True))"
      ]
    },
    {
      "cell_type": "code",
      "execution_count": 345,
      "metadata": {},
      "outputs": [
        {
          "output_type": "execute_result",
          "data": {
            "text/plain": [
              "Eq(m*p*r**2, -k + n - p)"
            ],
            "text/latex": "$\\displaystyle m p r^{2} = - k + n - p$"
          },
          "metadata": {},
          "execution_count": 345
        }
      ],
      "source": [
        "eq3=sp.Eq(r * p  * r * m , n - p - k)\n",
        "eq3"
      ]
    }
  ],
  "metadata": {
    "kernel_info": {
      "name": "python38164bit4dd4b799af3b48fcbbcd6aea0c620513"
    },
    "language_info": {
      "name": "python38164bit4dd4b799af3b48fcbbcd6aea0c620513",
      "version": "3.8.1"
    },
    "kernelspec": {
      "name": "python38164bit4dd4b799af3b48fcbbcd6aea0c620513",
      "display_name": "Python 3.8.1 64-bit"
    },
    "nteract": {
      "version": "0.27.0"
    },
    "metadata": {
      "interpreter": {
        "hash": "99ad7af26d078c2c46c8c13c60c3880ce9b42bdbfbf84168cd0a8ef0da149f00"
      }
    }
  },
  "nbformat": 4,
  "nbformat_minor": 0
}