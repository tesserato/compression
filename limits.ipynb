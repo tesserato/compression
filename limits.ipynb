{
  "cells": [
    {
      "cell_type": "code",
      "source": [
        "import sympy as sp\n",
        "\n",
        "nx, ny, p, m, qx, qy, kx, ky, n, s, nc = sp.symbols(\"nx ny p m qx qy kx ky n s nc\", integer=True, positive=True)\n",
        "\n",
        "# 2 * kx + 2 <= nx <= p\n",
        "# 2 * ky + 2 <= ny <= m\n",
        "# c size = (nx-kx-1)*(ny-ky-1)\n",
        "# (nx - kx - 1) * (ny - ky - 1) + p <= n\n",
        "\n",
        "# 2 * kx + 2 + q * p - 2 * kx + 2 = nx\n",
        "# q * m = ny"
      ],
      "outputs": [],
      "execution_count": 219,
      "metadata": {
        "collapsed": true,
        "jupyter": {
          "source_hidden": false,
          "outputs_hidden": false
        },
        "nteract": {
          "transient": {
            "deleting": false
          }
        }
      }
    },
    {
      "cell_type": "code",
      "execution_count": 220,
      "metadata": {},
      "outputs": [
        {
          "output_type": "execute_result",
          "data": {
            "text/plain": [
              "Eq(p + (ky + 1)*(-kx + nx - 1), n)"
            ],
            "text/latex": "$\\displaystyle p + \\left(ky + 1\\right) \\left(- kx + nx - 1\\right) = n$"
          },
          "metadata": {},
          "execution_count": 220
        }
      ],
      "source": [
        "eq=sp.Eq((nx - kx - 1) * (ny - ky - 1) + p, n).subs(ny,2 * ky + 2)#.expand().simplify()\n",
        "eq"
      ]
    },
    {
      "cell_type": "code",
      "execution_count": 221,
      "metadata": {},
      "outputs": [
        {
          "output_type": "stream",
          "name": "stdout",
          "text": [
            "(kx*ky + kx + ky + n - p + 1)/(ky + 1)\n"
          ]
        }
      ],
      "source": [
        "print(sp.solve(eq,nx)[0])"
      ]
    },
    {
      "cell_type": "code",
      "execution_count": 222,
      "metadata": {},
      "outputs": [
        {
          "output_type": "execute_result",
          "data": {
            "text/plain": [
              "Eq(p + (-kx + nx - 1)*(-ky + ny - 1), n)"
            ],
            "text/latex": "$\\displaystyle p + \\left(- kx + nx - 1\\right) \\left(- ky + ny - 1\\right) = n$"
          },
          "metadata": {},
          "execution_count": 222
        }
      ],
      "source": [
        "eq=sp.Eq((nx - kx - 1) * (ny - ky - 1) + p, n)#.expand().simplify()\n",
        "eq"
      ]
    },
    {
      "cell_type": "code",
      "execution_count": 224,
      "metadata": {},
      "outputs": [
        {
          "output_type": "execute_result",
          "data": {
            "text/plain": [
              "(kx*ky + kx - ky*nx + ky - n - nx + p + 1)/(kx - nx + 1)"
            ],
            "text/latex": "$\\displaystyle \\frac{kx ky + kx - ky nx + ky - n - nx + p + 1}{kx - nx + 1}$"
          },
          "metadata": {},
          "execution_count": 224
        }
      ],
      "source": [
        "sp.solve(eq,ny)[0]"
      ]
    },
    {
      "cell_type": "code",
      "execution_count": 199,
      "metadata": {},
      "outputs": [
        {
          "output_type": "execute_result",
          "data": {
            "text/plain": [
              "2*kx + qx*(-2*kx + p - 2) + 2"
            ],
            "text/latex": "$\\displaystyle 2 kx + qx \\left(- 2 kx + p - 2\\right) + 2$"
          },
          "metadata": {},
          "execution_count": 199
        }
      ],
      "source": [
        "nx = 2 * kx + 2 + qx * (p-(2 * kx + 2))\n",
        "nx"
      ]
    },
    {
      "cell_type": "code",
      "execution_count": 200,
      "metadata": {},
      "outputs": [
        {
          "output_type": "execute_result",
          "data": {
            "text/plain": [
              "2*ky + qy*(-2*ky + m - 2) + 2"
            ],
            "text/latex": "$\\displaystyle 2 ky + qy \\left(- 2 ky + m - 2\\right) + 2$"
          },
          "metadata": {},
          "execution_count": 200
        }
      ],
      "source": [
        "ny = 2 * ky + 2 + qy * (m-(2 * ky + 2))\n",
        "ny"
      ]
    },
    {
      "cell_type": "code",
      "execution_count": 201,
      "metadata": {},
      "outputs": [
        {
          "output_type": "execute_result",
          "data": {
            "text/plain": [
              "Eq((kx + qx*(-2*kx + p - 2) + 1)*(ky + qy*(-2*ky + m - 2) + 1), -2*kx - 2*ky + n - p - 6)"
            ],
            "text/latex": "$\\displaystyle \\left(kx + qx \\left(- 2 kx + p - 2\\right) + 1\\right) \\left(ky + qy \\left(- 2 ky + m - 2\\right) + 1\\right) = - 2 kx - 2 ky + n - p - 6$"
          },
          "metadata": {},
          "execution_count": 201
        }
      ],
      "source": [
        "eq=sp.Eq((nx - kx-1) * (ny-ky-1), n - nc )#.expand().simplify()\n",
        "eq"
      ]
    },
    {
      "cell_type": "code",
      "execution_count": 202,
      "metadata": {},
      "outputs": [
        {
          "output_type": "execute_result",
          "data": {
            "text/plain": [
              "(-2*kx*ky*qy + kx*ky + kx*m*qy - 2*kx*qy + 3*kx - 2*ky*qy + 3*ky + m*qy - n + p - 2*qy + 7)/(-4*kx*ky*qy + 2*kx*ky + 2*kx*m*qy - 4*kx*qy + 2*kx + 2*ky*p*qy - ky*p - 4*ky*qy + 2*ky - m*p*qy + 2*m*qy + 2*p*qy - p - 4*qy + 2)"
            ],
            "text/latex": "$\\displaystyle \\frac{- 2 kx ky qy + kx ky + kx m qy - 2 kx qy + 3 kx - 2 ky qy + 3 ky + m qy - n + p - 2 qy + 7}{- 4 kx ky qy + 2 kx ky + 2 kx m qy - 4 kx qy + 2 kx + 2 ky p qy - ky p - 4 ky qy + 2 ky - m p qy + 2 m qy + 2 p qy - p - 4 qy + 2}$"
          },
          "metadata": {},
          "execution_count": 202
        }
      ],
      "source": [
        "sp.solve(eq, qx)[0] #.simplify(deep=True).factor(deep=True)"
      ]
    },
    {
      "cell_type": "code",
      "execution_count": 203,
      "metadata": {},
      "outputs": [
        {
          "output_type": "error",
          "ename": "IndexError",
          "evalue": "list index out of range",
          "traceback": [
            "\u001b[1;31m---------------------------------------------------------------------------\u001b[0m",
            "\u001b[1;31mIndexError\u001b[0m                                Traceback (most recent call last)",
            "\u001b[1;32m<ipython-input-203-8fbe09460bfc>\u001b[0m in \u001b[0;36m<module>\u001b[1;34m\u001b[0m\n\u001b[1;32m----> 1\u001b[1;33m \u001b[0mprint\u001b[0m\u001b[1;33m(\u001b[0m\u001b[0msp\u001b[0m\u001b[1;33m.\u001b[0m\u001b[0msolve\u001b[0m\u001b[1;33m(\u001b[0m\u001b[0meq\u001b[0m\u001b[1;33m,\u001b[0m \u001b[0ms\u001b[0m\u001b[1;33m)\u001b[0m\u001b[1;33m[\u001b[0m\u001b[1;36m0\u001b[0m\u001b[1;33m]\u001b[0m\u001b[1;33m)\u001b[0m \u001b[1;31m#.factor(deep=True)\u001b[0m\u001b[1;33m\u001b[0m\u001b[1;33m\u001b[0m\u001b[0m\n\u001b[0m",
            "\u001b[1;31mIndexError\u001b[0m: list index out of range"
          ]
        }
      ],
      "source": [
        "print(sp.solve(eq, s)[0]) #.factor(deep=True)"
      ]
    },
    {
      "cell_type": "code",
      "execution_count": null,
      "metadata": {},
      "outputs": [],
      "source": []
    }
  ],
  "metadata": {
    "kernel_info": {
      "name": "python38164bit4dd4b799af3b48fcbbcd6aea0c620513"
    },
    "language_info": {
      "name": "python38164bit4dd4b799af3b48fcbbcd6aea0c620513",
      "version": "3.8.1"
    },
    "kernelspec": {
      "name": "python38164bit4dd4b799af3b48fcbbcd6aea0c620513",
      "display_name": "Python 3.8.1 64-bit"
    },
    "nteract": {
      "version": "0.27.0"
    },
    "metadata": {
      "interpreter": {
        "hash": "99ad7af26d078c2c46c8c13c60c3880ce9b42bdbfbf84168cd0a8ef0da149f00"
      }
    }
  },
  "nbformat": 4,
  "nbformat_minor": 0
}